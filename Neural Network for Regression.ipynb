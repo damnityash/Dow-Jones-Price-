{
 "cells": [
  {
   "cell_type": "markdown",
   "metadata": {
    "id": "I9-r7wPTk9Iz"
   },
   "source": [
    "# Neural Network for Regression\n",
    "We will apply regression on financial data from [Yahoo Finance! - Dow Jones Industrial Average (^DJI) data](https://in.finance.yahoo.com/quote/%5EDJI/history?period1=1282933800&period2=1535394600&interval=1d&filter=history&frequency=1d) to predict Close value of stock.\n",
    "\n",
    "## [Dow Jones Industrial Average](https://en.wikipedia.org/wiki/Dow_Jones_Industrial_Average)\n",
    "\n",
    "The Dow Jones Industrial Average (DJIA), is a stock market index that shows how 30 large, publicly owned companies based in the United States have traded during a standard trading session in the stock market. The value of the Dow is not a weighted arithmetic mean and does not represent its component companies' market capitalization, but rather the sum of the price of one share of stock for each component company. The sum is corrected by a factor which changes whenever one of the component stocks has a stock split or stock dividend, so as to generate a consistent value for the index.\n",
    "\n",
    "It is the second-oldest U.S. market index after the Dow Jones Transportation Average, created by Wall Street Journal editor and Dow Jones & Company co-founder Charles Dow. Currently owned by S&P Dow Jones Indices, which is majority owned by S&P Global, it is the best known of the Dow Averages, of which the first (non-industrial) was originally published on February 16, 1885.\n",
    "\n"
   ]
  },
  {
   "cell_type": "markdown",
   "metadata": {
    "id": "yKSIW_eSk9I-"
   },
   "source": [
    "<a id='import_packages'></a>\n",
    "# Import Packages"
   ]
  },
  {
   "cell_type": "code",
   "execution_count": 1,
   "metadata": {
    "ExecuteTime": {
     "end_time": "2022-02-10T13:58:24.506723Z",
     "start_time": "2022-02-10T13:58:22.845218Z"
    },
    "id": "408GZd1Lk9JA"
   },
   "outputs": [],
   "source": [
    "import pandas as pd\n",
    "import numpy as np\n",
    "from sklearn.preprocessing import StandardScaler\n",
    "import matplotlib.pyplot as plt"
   ]
  },
  {
   "cell_type": "markdown",
   "metadata": {
    "id": "9jfcaS3hk9JC"
   },
   "source": [
    "<a id='load_data'></a>\n",
    "# Load Data"
   ]
  },
  {
   "cell_type": "code",
   "execution_count": 2,
   "metadata": {
    "ExecuteTime": {
     "end_time": "2022-02-10T13:58:24.586721Z",
     "start_time": "2022-02-10T13:58:24.506723Z"
    },
    "id": "3wiXUFyFk9JC",
    "outputId": "fad92198-6368-49f9-d09e-366d81793404"
   },
   "outputs": [
    {
     "data": {
      "text/html": [
       "<div>\n",
       "<style scoped>\n",
       "    .dataframe tbody tr th:only-of-type {\n",
       "        vertical-align: middle;\n",
       "    }\n",
       "\n",
       "    .dataframe tbody tr th {\n",
       "        vertical-align: top;\n",
       "    }\n",
       "\n",
       "    .dataframe thead th {\n",
       "        text-align: right;\n",
       "    }\n",
       "</style>\n",
       "<table border=\"1\" class=\"dataframe\">\n",
       "  <thead>\n",
       "    <tr style=\"text-align: right;\">\n",
       "      <th></th>\n",
       "      <th>Date</th>\n",
       "      <th>Open</th>\n",
       "      <th>High</th>\n",
       "      <th>Low</th>\n",
       "      <th>Close</th>\n",
       "      <th>Adj Close</th>\n",
       "      <th>Volume</th>\n",
       "    </tr>\n",
       "  </thead>\n",
       "  <tbody>\n",
       "    <tr>\n",
       "      <th>0</th>\n",
       "      <td>2010-08-27</td>\n",
       "      <td>9982.179688</td>\n",
       "      <td>10159.879883</td>\n",
       "      <td>9936.620117</td>\n",
       "      <td>10150.650391</td>\n",
       "      <td>10150.650391</td>\n",
       "      <td>207760000</td>\n",
       "    </tr>\n",
       "    <tr>\n",
       "      <th>1</th>\n",
       "      <td>2010-08-30</td>\n",
       "      <td>10145.580078</td>\n",
       "      <td>10150.570313</td>\n",
       "      <td>10007.679688</td>\n",
       "      <td>10009.730469</td>\n",
       "      <td>10009.730469</td>\n",
       "      <td>150480000</td>\n",
       "    </tr>\n",
       "    <tr>\n",
       "      <th>2</th>\n",
       "      <td>2010-08-31</td>\n",
       "      <td>10006.419922</td>\n",
       "      <td>10073.379883</td>\n",
       "      <td>9941.839844</td>\n",
       "      <td>10014.719727</td>\n",
       "      <td>10014.719727</td>\n",
       "      <td>255420000</td>\n",
       "    </tr>\n",
       "    <tr>\n",
       "      <th>3</th>\n",
       "      <td>2010-09-01</td>\n",
       "      <td>10016.009766</td>\n",
       "      <td>10279.080078</td>\n",
       "      <td>10016.009766</td>\n",
       "      <td>10269.469727</td>\n",
       "      <td>10269.469727</td>\n",
       "      <td>205710000</td>\n",
       "    </tr>\n",
       "    <tr>\n",
       "      <th>4</th>\n",
       "      <td>2010-09-02</td>\n",
       "      <td>10270.080078</td>\n",
       "      <td>10320.370117</td>\n",
       "      <td>10253.959961</td>\n",
       "      <td>10320.099609</td>\n",
       "      <td>10320.099609</td>\n",
       "      <td>149930000</td>\n",
       "    </tr>\n",
       "  </tbody>\n",
       "</table>\n",
       "</div>"
      ],
      "text/plain": [
       "         Date          Open          High           Low         Close  \\\n",
       "0  2010-08-27   9982.179688  10159.879883   9936.620117  10150.650391   \n",
       "1  2010-08-30  10145.580078  10150.570313  10007.679688  10009.730469   \n",
       "2  2010-08-31  10006.419922  10073.379883   9941.839844  10014.719727   \n",
       "3  2010-09-01  10016.009766  10279.080078  10016.009766  10269.469727   \n",
       "4  2010-09-02  10270.080078  10320.370117  10253.959961  10320.099609   \n",
       "\n",
       "      Adj Close     Volume  \n",
       "0  10150.650391  207760000  \n",
       "1  10009.730469  150480000  \n",
       "2  10014.719727  255420000  \n",
       "3  10269.469727  205710000  \n",
       "4  10320.099609  149930000  "
      ]
     },
     "execution_count": 2,
     "metadata": {},
     "output_type": "execute_result"
    }
   ],
   "source": [
    "data = pd.read_csv(\"data.csv\")\n",
    "data.head()"
   ]
  },
  {
   "cell_type": "markdown",
   "metadata": {
    "id": "n3hk2Al2k9JE"
   },
   "source": [
    "<a id='data_preparation'></a>\n",
    "# Data Preparation\n",
    "The process of data preparation entails cleansing, structuring and integrating data to make it ready for analysis. Here we first analyze the data statistically and then split the target varibles and normalize, followed by splitting the dataframe into numerical and categorical features.\n",
    "\n",
    "# Dimensions of Dataset\n",
    "We can get a quick idea of how many instances (rows) and how many attributes (columns) the data contains with the shape property."
   ]
  },
  {
   "cell_type": "code",
   "execution_count": 3,
   "metadata": {
    "ExecuteTime": {
     "end_time": "2022-02-10T13:58:24.716848Z",
     "start_time": "2022-02-10T13:58:24.586721Z"
    },
    "id": "wa6n1TYok9JF",
    "outputId": "a5c58ec1-519f-468f-da06-bfef7ff9e66e"
   },
   "outputs": [
    {
     "data": {
      "text/plain": [
       "(2014, 7)"
      ]
     },
     "execution_count": 3,
     "metadata": {},
     "output_type": "execute_result"
    }
   ],
   "source": [
    "# Shape\n",
    "data.shape"
   ]
  },
  {
   "cell_type": "markdown",
   "metadata": {
    "id": "qRveXcnik9JG"
   },
   "source": [
    "# Statistical Summary\n",
    "we can take a look at a summary of each attribute.\n",
    "\n",
    "This includes the count, mean, the min and max values as well as some percentiles."
   ]
  },
  {
   "cell_type": "code",
   "execution_count": 4,
   "metadata": {
    "ExecuteTime": {
     "end_time": "2022-02-10T13:58:24.844657Z",
     "start_time": "2022-02-10T13:58:24.716848Z"
    },
    "id": "pPrfj9a8k9JH",
    "outputId": "3eeb7289-6140-4135-c6b8-692edcad7099"
   },
   "outputs": [
    {
     "data": {
      "text/html": [
       "<div>\n",
       "<style scoped>\n",
       "    .dataframe tbody tr th:only-of-type {\n",
       "        vertical-align: middle;\n",
       "    }\n",
       "\n",
       "    .dataframe tbody tr th {\n",
       "        vertical-align: top;\n",
       "    }\n",
       "\n",
       "    .dataframe thead th {\n",
       "        text-align: right;\n",
       "    }\n",
       "</style>\n",
       "<table border=\"1\" class=\"dataframe\">\n",
       "  <thead>\n",
       "    <tr style=\"text-align: right;\">\n",
       "      <th></th>\n",
       "      <th>Open</th>\n",
       "      <th>High</th>\n",
       "      <th>Low</th>\n",
       "      <th>Close</th>\n",
       "      <th>Adj Close</th>\n",
       "      <th>Volume</th>\n",
       "    </tr>\n",
       "  </thead>\n",
       "  <tbody>\n",
       "    <tr>\n",
       "      <th>count</th>\n",
       "      <td>2014.000000</td>\n",
       "      <td>2014.000000</td>\n",
       "      <td>2014.000000</td>\n",
       "      <td>2014.000000</td>\n",
       "      <td>2014.000000</td>\n",
       "      <td>2.014000e+03</td>\n",
       "    </tr>\n",
       "    <tr>\n",
       "      <th>mean</th>\n",
       "      <td>16756.880170</td>\n",
       "      <td>16835.962791</td>\n",
       "      <td>16676.660195</td>\n",
       "      <td>16762.755255</td>\n",
       "      <td>16762.755255</td>\n",
       "      <td>1.699523e+08</td>\n",
       "    </tr>\n",
       "    <tr>\n",
       "      <th>std</th>\n",
       "      <td>3985.884743</td>\n",
       "      <td>3992.888506</td>\n",
       "      <td>3977.350484</td>\n",
       "      <td>3984.242430</td>\n",
       "      <td>3984.242430</td>\n",
       "      <td>1.072222e+08</td>\n",
       "    </tr>\n",
       "    <tr>\n",
       "      <th>min</th>\n",
       "      <td>9982.179688</td>\n",
       "      <td>10073.379883</td>\n",
       "      <td>9936.620117</td>\n",
       "      <td>10009.730469</td>\n",
       "      <td>10009.730469</td>\n",
       "      <td>8.410000e+06</td>\n",
       "    </tr>\n",
       "    <tr>\n",
       "      <th>25%</th>\n",
       "      <td>13104.239746</td>\n",
       "      <td>13175.674805</td>\n",
       "      <td>13045.425049</td>\n",
       "      <td>13107.277588</td>\n",
       "      <td>13107.277588</td>\n",
       "      <td>9.486500e+07</td>\n",
       "    </tr>\n",
       "    <tr>\n",
       "      <th>50%</th>\n",
       "      <td>16566.544922</td>\n",
       "      <td>16652.890625</td>\n",
       "      <td>16500.360352</td>\n",
       "      <td>16571.265625</td>\n",
       "      <td>16571.265625</td>\n",
       "      <td>1.284750e+08</td>\n",
       "    </tr>\n",
       "    <tr>\n",
       "      <th>75%</th>\n",
       "      <td>18282.699219</td>\n",
       "      <td>18350.062988</td>\n",
       "      <td>18205.062500</td>\n",
       "      <td>18287.908203</td>\n",
       "      <td>18287.908203</td>\n",
       "      <td>2.177400e+08</td>\n",
       "    </tr>\n",
       "    <tr>\n",
       "      <th>max</th>\n",
       "      <td>26584.279297</td>\n",
       "      <td>26616.710938</td>\n",
       "      <td>26435.339844</td>\n",
       "      <td>26616.710938</td>\n",
       "      <td>26616.710938</td>\n",
       "      <td>8.239400e+08</td>\n",
       "    </tr>\n",
       "  </tbody>\n",
       "</table>\n",
       "</div>"
      ],
      "text/plain": [
       "               Open          High           Low         Close     Adj Close  \\\n",
       "count   2014.000000   2014.000000   2014.000000   2014.000000   2014.000000   \n",
       "mean   16756.880170  16835.962791  16676.660195  16762.755255  16762.755255   \n",
       "std     3985.884743   3992.888506   3977.350484   3984.242430   3984.242430   \n",
       "min     9982.179688  10073.379883   9936.620117  10009.730469  10009.730469   \n",
       "25%    13104.239746  13175.674805  13045.425049  13107.277588  13107.277588   \n",
       "50%    16566.544922  16652.890625  16500.360352  16571.265625  16571.265625   \n",
       "75%    18282.699219  18350.062988  18205.062500  18287.908203  18287.908203   \n",
       "max    26584.279297  26616.710938  26435.339844  26616.710938  26616.710938   \n",
       "\n",
       "             Volume  \n",
       "count  2.014000e+03  \n",
       "mean   1.699523e+08  \n",
       "std    1.072222e+08  \n",
       "min    8.410000e+06  \n",
       "25%    9.486500e+07  \n",
       "50%    1.284750e+08  \n",
       "75%    2.177400e+08  \n",
       "max    8.239400e+08  "
      ]
     },
     "execution_count": 4,
     "metadata": {},
     "output_type": "execute_result"
    }
   ],
   "source": [
    "# descriptions\n",
    "data.describe()"
   ]
  },
  {
   "cell_type": "markdown",
   "metadata": {
    "id": "APyRikV0k9JI"
   },
   "source": [
    "# Spliting Target Variable"
   ]
  },
  {
   "cell_type": "code",
   "execution_count": 5,
   "metadata": {
    "ExecuteTime": {
     "end_time": "2022-02-10T13:58:24.907682Z",
     "start_time": "2022-02-10T13:58:24.844657Z"
    },
    "id": "I3LYFldJk9JI"
   },
   "outputs": [],
   "source": [
    "predictor = data.iloc[:,[1,2,3,5,6,]]\n",
    "target = data.iloc[:,4]"
   ]
  },
  {
   "cell_type": "markdown",
   "metadata": {
    "id": "P_JvV4qfk9JI"
   },
   "source": [
    "# Standarize Features"
   ]
  },
  {
   "cell_type": "code",
   "execution_count": 6,
   "metadata": {
    "ExecuteTime": {
     "end_time": "2022-02-10T13:58:25.028023Z",
     "start_time": "2022-02-10T13:58:24.907682Z"
    },
    "id": "R-ZDuXPjk9JJ"
   },
   "outputs": [],
   "source": [
    "# Standarize features\n",
    "scaler = StandardScaler()\n",
    "predictor = scaler.fit_transform(predictor)"
   ]
  },
  {
   "cell_type": "markdown",
   "metadata": {
    "id": "HxyJvqF2k9JJ"
   },
   "source": [
    "# Train, Test Data Split"
   ]
  },
  {
   "cell_type": "code",
   "execution_count": 8,
   "metadata": {
    "ExecuteTime": {
     "end_time": "2022-02-10T13:59:23.388204Z",
     "start_time": "2022-02-10T13:59:23.324231Z"
    },
    "id": "YifR7r3kk9JJ",
    "outputId": "948f6aa3-0c7b-4b0c-dbcf-18f42ea96fb7"
   },
   "outputs": [
    {
     "name": "stdout",
     "output_type": "stream",
     "text": [
      "x_train  (1409, 5)\n",
      "x_test  (605, 5)\n",
      "y_train  (1409,)\n",
      "y_test  (605,)\n"
     ]
    }
   ],
   "source": [
    "#Let us now split the dataset into train & test\n",
    "from sklearn.model_selection import train_test_split\n",
    "x_train,x_test, y_train, y_test = train_test_split(predictor, target, test_size = 0.30, random_state=0)\n",
    "print(\"x_train \",x_train.shape)\n",
    "print(\"x_test \",x_test.shape)\n",
    "print(\"y_train \",y_train.shape)\n",
    "print(\"y_test \",y_test.shape)"
   ]
  },
  {
   "cell_type": "markdown",
   "metadata": {
    "id": "p3MWkx1Pk9JK"
   },
   "source": [
    "# Neural Network"
   ]
  },
  {
   "cell_type": "code",
   "execution_count": 9,
   "metadata": {
    "ExecuteTime": {
     "end_time": "2022-02-10T13:59:23.647379Z",
     "start_time": "2022-02-10T13:59:23.388204Z"
    },
    "executionInfo": {
     "elapsed": 1355,
     "status": "ok",
     "timestamp": 1642837062887,
     "user": {
      "displayName": "devdatta trainings",
      "photoUrl": "https://lh3.googleusercontent.com/a/default-user=s64",
      "userId": "16964738642897968134"
     },
     "user_tz": -330
    },
    "id": "eqzr3xsnk9JL"
   },
   "outputs": [],
   "source": [
    "# Import Neural Network library\n",
    "from sklearn.neural_network import MLPRegressor\n",
    "\n",
    "import  sklearn.neural_network"
   ]
  },
  {
   "cell_type": "code",
   "execution_count": 10,
   "metadata": {
    "ExecuteTime": {
     "end_time": "2022-02-10T13:59:23.791417Z",
     "start_time": "2022-02-10T13:59:23.647379Z"
    },
    "executionInfo": {
     "elapsed": 475,
     "status": "ok",
     "timestamp": 1642837163282,
     "user": {
      "displayName": "devdatta trainings",
      "photoUrl": "https://lh3.googleusercontent.com/a/default-user=s64",
      "userId": "16964738642897968134"
     },
     "user_tz": -330
    },
    "id": "s7QNlKSTuaQY"
   },
   "outputs": [],
   "source": [
    "sklearn.neural_network.BernoulliRBM.score_samples?"
   ]
  },
  {
   "cell_type": "code",
   "execution_count": 11,
   "metadata": {
    "ExecuteTime": {
     "end_time": "2022-02-10T13:59:23.886706Z",
     "start_time": "2022-02-10T13:59:23.791417Z"
    },
    "colab": {
     "base_uri": "https://localhost:8080/"
    },
    "executionInfo": {
     "elapsed": 412,
     "status": "ok",
     "timestamp": 1642837121659,
     "user": {
      "displayName": "devdatta trainings",
      "photoUrl": "https://lh3.googleusercontent.com/a/default-user=s64",
      "userId": "16964738642897968134"
     },
     "user_tz": -330
    },
    "id": "qYPx-adhthw8",
    "outputId": "adc9cd57-0c78-4450-d65f-26e100cc89f9"
   },
   "outputs": [
    {
     "data": {
      "text/plain": [
       "['__annotations__',\n",
       " '__call__',\n",
       " '__class__',\n",
       " '__closure__',\n",
       " '__code__',\n",
       " '__defaults__',\n",
       " '__delattr__',\n",
       " '__dict__',\n",
       " '__dir__',\n",
       " '__doc__',\n",
       " '__eq__',\n",
       " '__format__',\n",
       " '__ge__',\n",
       " '__get__',\n",
       " '__getattribute__',\n",
       " '__globals__',\n",
       " '__gt__',\n",
       " '__hash__',\n",
       " '__init__',\n",
       " '__init_subclass__',\n",
       " '__kwdefaults__',\n",
       " '__le__',\n",
       " '__lt__',\n",
       " '__module__',\n",
       " '__name__',\n",
       " '__ne__',\n",
       " '__new__',\n",
       " '__qualname__',\n",
       " '__reduce__',\n",
       " '__reduce_ex__',\n",
       " '__repr__',\n",
       " '__setattr__',\n",
       " '__sizeof__',\n",
       " '__str__',\n",
       " '__subclasshook__']"
      ]
     },
     "execution_count": 11,
     "metadata": {},
     "output_type": "execute_result"
    }
   ],
   "source": [
    "dir(sklearn.neural_network.BernoulliRBM.score_samples)"
   ]
  },
  {
   "cell_type": "code",
   "execution_count": 12,
   "metadata": {
    "ExecuteTime": {
     "end_time": "2022-02-10T13:59:26.216569Z",
     "start_time": "2022-02-10T13:59:23.886706Z"
    },
    "id": "HgX273WOk9JL",
    "outputId": "bea94233-af25-4b49-b21f-7f2f5f7f7929"
   },
   "outputs": [
    {
     "name": "stderr",
     "output_type": "stream",
     "text": [
      "C:\\Users\\ACER\\anaconda3\\lib\\site-packages\\sklearn\\neural_network\\_multilayer_perceptron.py:571: ConvergenceWarning: Stochastic Optimizer: Maximum iterations (200) reached and the optimization hasn't converged yet.\n",
      "  % self.max_iter, ConvergenceWarning)\n"
     ]
    }
   ],
   "source": [
    "# Build model with neural network\n",
    "nn_model = MLPRegressor().fit(x_train, y_train)"
   ]
  },
  {
   "cell_type": "code",
   "execution_count": 13,
   "metadata": {
    "ExecuteTime": {
     "end_time": "2022-02-10T13:59:26.232570Z",
     "start_time": "2022-02-10T13:59:26.216569Z"
    },
    "id": "xBvUci3Ck9JL"
   },
   "outputs": [],
   "source": [
    "# Predict using built model\n",
    "predictvalues = nn_model.predict(x_test)"
   ]
  },
  {
   "cell_type": "code",
   "execution_count": 14,
   "metadata": {
    "ExecuteTime": {
     "end_time": "2022-02-10T13:59:26.360569Z",
     "start_time": "2022-02-10T13:59:26.232570Z"
    },
    "id": "NZAN5o8jk9JM",
    "outputId": "26041adf-924c-48fe-a3e3-7c70615d6c79"
   },
   "outputs": [
    {
     "data": {
      "text/plain": [
       "-16.060699495462536"
      ]
     },
     "execution_count": 14,
     "metadata": {},
     "output_type": "execute_result"
    }
   ],
   "source": [
    "# Coefficient of determination R^2 of the predicted model \n",
    "nn_model.score(x_train, y_train)"
   ]
  },
  {
   "cell_type": "code",
   "execution_count": 15,
   "metadata": {
    "ExecuteTime": {
     "end_time": "2022-02-10T13:59:26.490424Z",
     "start_time": "2022-02-10T13:59:26.360569Z"
    },
    "id": "7ch7PLtZk9JM",
    "outputId": "4cbf1ec1-cffc-4734-a874-a73429ae4409"
   },
   "outputs": [
    {
     "name": "stdout",
     "output_type": "stream",
     "text": [
      "16274.885003745947\n"
     ]
    }
   ],
   "source": [
    "# Check RMSE (Root Mean Square Error)\n",
    "from sklearn.metrics import mean_squared_error\n",
    "import math\n",
    "print(math.sqrt(mean_squared_error(y_test, predictvalues)))"
   ]
  },
  {
   "cell_type": "code",
   "execution_count": 16,
   "metadata": {
    "ExecuteTime": {
     "end_time": "2022-02-10T13:59:26.794423Z",
     "start_time": "2022-02-10T13:59:26.490424Z"
    },
    "id": "lnBpu_stk9JN",
    "outputId": "f5af9d93-b16f-4f25-977d-ff38373ed7df"
   },
   "outputs": [
    {
     "data": {
      "image/png": "[encoded data removed]",
      "text/plain": [
       "<Figure size 432x288 with 1 Axes>"
      ]
     },
     "metadata": {
      "needs_background": "light"
     },
     "output_type": "display_data"
    }
   ],
   "source": [
    "# Checking scatter of data between Y_test and predicted values\n",
    "plt.scatter(y_test,predictvalues)\n",
    "plt.xlabel(\"Actual Test Data\")\n",
    "plt.ylabel(\"Predicted Data\")\n",
    "plt.show()"
   ]
  },
  {
   "cell_type": "markdown",
   "metadata": {
    "id": "PWOpowvjk9JN"
   },
   "source": [
    "# Build Model with Neural Network\n",
    "### With Hidden layers, Activation function, Solver and Learning Rate "
   ]
  },
  {
   "cell_type": "code",
   "execution_count": 17,
   "metadata": {
    "ExecuteTime": {
     "end_time": "2022-02-10T13:59:27.685690Z",
     "start_time": "2022-02-10T13:59:26.794423Z"
    },
    "id": "lxNwhgtsk9JO"
   },
   "outputs": [
    {
     "name": "stderr",
     "output_type": "stream",
     "text": [
      "C:\\Users\\ACER\\anaconda3\\lib\\site-packages\\sklearn\\neural_network\\_multilayer_perceptron.py:470: ConvergenceWarning: lbfgs failed to converge (status=1):\n",
      "STOP: TOTAL NO. of ITERATIONS REACHED LIMIT.\n",
      "\n",
      "Increase the number of iterations (max_iter) or scale the data as shown in:\n",
      "    https://scikit-learn.org/stable/modules/preprocessing.html\n",
      "  self.n_iter_ = _check_optimize_result(\"lbfgs\", opt_res, self.max_iter)\n"
     ]
    }
   ],
   "source": [
    "nn_model = MLPRegressor(hidden_layer_sizes=(10,15,10), activation='relu', solver='lbfgs', alpha=0.001,\n",
    "                        learning_rate='adaptive',random_state=0).fit(x_train, y_train)"
   ]
  },
  {
   "cell_type": "code",
   "execution_count": 18,
   "metadata": {
    "ExecuteTime": {
     "end_time": "2022-02-10T13:59:27.701681Z",
     "start_time": "2022-02-10T13:59:27.685690Z"
    },
    "id": "8wsRcGnwk9JQ"
   },
   "outputs": [],
   "source": [
    "# Predict using built model\n",
    "predictvalues = nn_model.predict(x_test)"
   ]
  },
  {
   "cell_type": "code",
   "execution_count": 19,
   "metadata": {
    "ExecuteTime": {
     "end_time": "2022-02-10T13:59:27.845844Z",
     "start_time": "2022-02-10T13:59:27.701681Z"
    },
    "id": "GznfTqxKk9JT",
    "outputId": "724f875f-d9e9-45d8-a273-8d75a057ee75"
   },
   "outputs": [
    {
     "data": {
      "text/plain": [
       "0.99999975248911"
      ]
     },
     "execution_count": 19,
     "metadata": {},
     "output_type": "execute_result"
    }
   ],
   "source": [
    "# Coefficient of determination R^2 of the predicted model \n",
    "nn_model.score(x_train, y_train)"
   ]
  },
  {
   "cell_type": "code",
   "execution_count": 20,
   "metadata": {
    "ExecuteTime": {
     "end_time": "2022-02-10T13:59:27.962480Z",
     "start_time": "2022-02-10T13:59:27.845844Z"
    },
    "id": "0GbG-gpmk9Ja",
    "outputId": "f4067285-f9c1-4977-e04d-d9bf8db62ed4"
   },
   "outputs": [
    {
     "name": "stdout",
     "output_type": "stream",
     "text": [
      "2.2647704260659594\n"
     ]
    }
   ],
   "source": [
    "# Check RMSE (Root Mean Square Error)\n",
    "from sklearn.metrics import mean_squared_error\n",
    "import math\n",
    "print(math.sqrt(mean_squared_error(y_test, predictvalues)))"
   ]
  },
  {
   "cell_type": "code",
   "execution_count": 21,
   "metadata": {
    "ExecuteTime": {
     "end_time": "2022-02-10T13:59:28.234279Z",
     "start_time": "2022-02-10T13:59:27.962480Z"
    },
    "id": "0qTnc4G-k9Jb",
    "outputId": "d1fbf675-7ff7-4954-e4fe-e3647b027ee0"
   },
   "outputs": [
    {
     "data": {
      "image/png": "[encoded data removed]",
      "text/plain": [
       "<Figure size 432x288 with 1 Axes>"
      ]
     },
     "metadata": {
      "needs_background": "light"
     },
     "output_type": "display_data"
    }
   ],
   "source": [
    "# Checking scatter of data between Y_test and predicted values\n",
    "plt.scatter(y_test,predictvalues)\n",
    "plt.xlabel(\"Actual Test Data\")\n",
    "plt.ylabel(\"Predicted Data\")\n",
    "plt.show()"
   ]
  }
 ],
 "metadata": {
  "colab": {
   "name": "Neural Network for Regression.ipynb",
   "provenance": []
  },
  "kernelspec": {
   "display_name": "Python 3",
   "language": "python",
   "name": "python3"
  },
  "language_info": {
   "codemirror_mode": {
    "name": "ipython",
    "version": 3
   },
   "file_extension": ".py",
   "mimetype": "text/x-python",
   "name": "python",
   "nbconvert_exporter": "python",
   "pygments_lexer": "ipython3",
   "version": "3.7.6"
  }
 },
 "nbformat": 4,
 "nbformat_minor": 1
}
